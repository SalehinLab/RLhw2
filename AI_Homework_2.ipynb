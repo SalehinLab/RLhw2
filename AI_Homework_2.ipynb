{
  "nbformat": 4,
  "nbformat_minor": 0,
  "metadata": {
    "colab": {
      "provenance": [],
      "authorship_tag": "ABX9TyO9JhSuOSpfi99uXLYSs/m4",
      "include_colab_link": true
    },
    "kernelspec": {
      "name": "python3",
      "display_name": "Python 3"
    },
    "language_info": {
      "name": "python"
    },
    "accelerator": "GPU"
  },
  "cells": [
    {
      "cell_type": "markdown",
      "metadata": {
        "id": "view-in-github",
        "colab_type": "text"
      },
      "source": [
        "<a href=\"https://colab.research.google.com/github/SalehinLab/RLhw2/blob/main/AI_Homework_2.ipynb\" target=\"_parent\"><img src=\"https://colab.research.google.com/assets/colab-badge.svg\" alt=\"Open In Colab\"/></a>"
      ]
    },
    {
      "cell_type": "code",
      "execution_count": 1,
      "metadata": {
        "colab": {
          "base_uri": "https://localhost:8080/"
        },
        "id": "T3YOEhsBc1z1",
        "outputId": "9e1a3529-c231-4a04-e3de-6634d65e4551"
      },
      "outputs": [
        {
          "output_type": "stream",
          "name": "stdout",
          "text": [
            "User’s input from keyboard> Row value: 040000000\n",
            " The Row 1 Complete\n",
            "User’s input from keyboard> Row value: 001034620\n",
            " The Row 2 Complete\n",
            "User’s input from keyboard> Row value: 603000070\n",
            " The Row 3 Complete\n",
            "User’s input from keyboard> Row value: 000483507\n",
            " The Row 4 Complete\n",
            "User’s input from keyboard> Row value: 000050060\n",
            " The Row 5 Complete\n",
            "User’s input from keyboard> Row value: 000009040\n",
            " The Row 6 Complete\n",
            "User’s input from keyboard> Row value: 005000001\n",
            " The Row 7 Complete\n",
            "User’s input from keyboard> Row value: 800547396\n",
            " The Row 8 Complete\n",
            "User’s input from keyboard> Row value: 000021000\n",
            "[[2 4 8 6 7 5 1 3 9]\n",
            " [7 5 1 9 3 4 6 2 8]\n",
            " [6 9 3 2 1 8 4 7 5]\n",
            " [9 2 6 4 8 3 5 1 7]\n",
            " [1 8 4 7 5 2 9 6 3]\n",
            " [5 3 7 1 6 9 8 4 2]\n",
            " [4 7 5 3 9 6 2 8 1]\n",
            " [8 1 2 5 4 7 3 9 6]\n",
            " [3 6 9 8 2 1 7 5 4]]\n"
          ]
        }
      ],
      "source": [
        "#library \n",
        "import numpy as np\n",
        "\n",
        "#Amount of grid \n",
        "grid = []\n",
        "\n",
        "while True:\n",
        "    row = list(input('User’s input from keyboard> Row value: ')) #manually user’s input \n",
        "    ints = []\n",
        "\n",
        "    for n in row:\n",
        "        ints.append(int(n))\n",
        "    grid.append(ints)\n",
        "\n",
        "    if len(grid) == 9:\n",
        "        break\n",
        "    print(' The Row ' + str(len(grid)) + ' Complete')\n",
        "\n",
        "\n",
        "def possible(x, y, n):\n",
        "    for i in range(0, 9):\n",
        "        if grid[i][x] == n and i != y: # Checks for number (n) in X columns\n",
        "            return False\n",
        "\n",
        "    for i in range(0, 9):\n",
        "        if grid[y][i] == n and i != x: # Checks for number (n) in X columns\n",
        "            return False\n",
        "\n",
        "    x0 = (x // 3) * 3\n",
        "    y0 = (y // 3) * 3\n",
        "    for X in range(x0, x0 + 3):\n",
        "        for Y in range(y0, y0 + 3):  # Checks for numbers in box(no matter the position, it finds the corner)\n",
        "            if grid[Y][X] == n:\n",
        "                return False    \n",
        "    return True\n",
        "\n",
        "def solve():\n",
        "    global grid\n",
        "    for y in range(9):\n",
        "        for x in range(9):\n",
        "            if grid[y][x] == 0:\n",
        "                for n in range(1, 10):\n",
        "                    if possible(x, y, n):\n",
        "                        grid[y][x] = n\n",
        "                        solve()\n",
        "                        grid[y][x] = 0\n",
        "                return\n",
        "    print(np.matrix(grid))\n",
        "\n",
        "solve()"
      ]
    }
  ]
}